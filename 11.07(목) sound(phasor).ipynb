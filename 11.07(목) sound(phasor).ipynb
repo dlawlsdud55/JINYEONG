{
 "cells": [
  {
   "cell_type": "code",
   "execution_count": 13,
   "metadata": {},
   "outputs": [],
   "source": [
    "from matplotlib import pyplot as plt # plottig하기 위한 library를 부름?\n",
    "from mpl_toolkits.mplot3d import Axes3D \n",
    "from mpl_toolkits.axes_grid1 import make_axes_locatable\n",
    "import IPython.display as ipd\n",
    "import numpy as np \n",
    "%matplotlib notebook \n",
    "from scipy.signal import lfilter "
   ]
  },
  {
   "cell_type": "code",
   "execution_count": 14,
   "metadata": {},
   "outputs": [],
   "source": [
    "## parameter setting  # 코딩에서는 그냥 variable에 해당?\n",
    "amp = 1          # range [0.0, 1.0] \n",
    "sr = 10000       # sampling rate, Hz\n",
    "dur = 0.5        # in seconds\n",
    "freq = 100.0     # sine frequency, Hz # theta에는 반드시 각도값을 넣어야 함"
   ]
  },
  {
   "cell_type": "code",
   "execution_count": 18,
   "metadata": {},
   "outputs": [
    {
     "data": {
      "text/plain": [
       "array([0., 1., 2., 3., 4., 5., 6.])"
      ]
     },
     "execution_count": 18,
     "metadata": {},
     "output_type": "execute_result"
    }
   ],
   "source": [
    "theta = np.arange (0, 2 *np.pi) # 0 부터 2pi까지의 디폴트는 1\n",
    "theta"
   ]
  },
  {
   "cell_type": "code",
   "execution_count": 19,
   "metadata": {},
   "outputs": [
    {
     "data": {
      "text/plain": [
       "array([ 0.        ,  0.84147098,  0.90929743,  0.14112001, -0.7568025 ,\n",
       "       -0.95892427, -0.2794155 ])"
      ]
     },
     "execution_count": 19,
     "metadata": {},
     "output_type": "execute_result"
    }
   ],
   "source": [
    "s = np. sin(theta)\n",
    "s # 유튜브 영상 보고 복습"
   ]
  },
  {
   "cell_type": "code",
   "execution_count": 22,
   "metadata": {},
   "outputs": [],
   "source": [
    "theta = np.arange (0, 2 *np.pi)"
   ]
  },
  {
   "cell_type": "code",
   "execution_count": 26,
   "metadata": {},
   "outputs": [],
   "source": [
    "#11.05 복습\n",
    "t = np.arange(1, sr*dur) # sampling rate 갯수 만큼의 time tick을 만드는 것, duration을 반영?"
   ]
  },
  {
   "cell_type": "code",
   "execution_count": 29,
   "metadata": {},
   "outputs": [],
   "source": [
    "t = np.arange(1, sr * dur+1)/sr"
   ]
  },
  {
   "cell_type": "code",
   "execution_count": 30,
   "metadata": {},
   "outputs": [],
   "source": [
    "# generate signal by complex-phasor\n",
    "c = np.exp(theta*1j) # np.exp가 큰 e에 해당한다고 생각 j = i //="
   ]
  },
  {
   "cell_type": "code",
   "execution_count": null,
   "metadata": {},
   "outputs": [],
   "source": []
  },
  {
   "cell_type": "code",
   "execution_count": null,
   "metadata": {},
   "outputs": [],
   "source": []
  }
 ],
 "metadata": {
  "kernelspec": {
   "display_name": "Python 3",
   "language": "python",
   "name": "python3"
  },
  "language_info": {
   "codemirror_mode": {
    "name": "ipython",
    "version": 3
   },
   "file_extension": ".py",
   "mimetype": "text/x-python",
   "name": "python",
   "nbconvert_exporter": "python",
   "pygments_lexer": "ipython3",
   "version": "3.7.3"
  }
 },
 "nbformat": 4,
 "nbformat_minor": 2
}
